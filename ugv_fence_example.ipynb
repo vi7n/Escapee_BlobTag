{
 "cells": [
  {
   "cell_type": "code",
   "execution_count": 126,
   "metadata": {},
   "outputs": [],
   "source": [
    "import numpy as np\n",
    "import geopandas\n",
    "from shapely.geometry import Point, LineString\n",
    "from shapely.geometry.polygon import Polygon\n",
    "from math import atan, radians, pi\n",
    "\n",
    "def find_intersection(point: Point, heading: float, poly: Polygon) -> Point:\n",
    "    \"\"\"\n",
    "    cast a ray from a point with a given heading and check where it intersects the polygon\n",
    "\n",
    "    ** heading should be in radians! convert it with radians(degrees) if needed\n",
    "    \"\"\"\n",
    "\n",
    "    dy = 1000 # this is an arbitrary distance. 1km should be plenty for our application\n",
    "    dx = atan(heading) * dy\n",
    "\n",
    "    p1 = np.array([tmp[0] for tmp in point.coords.xy])\n",
    "    p2 = p1 + np.array([dx, dy])\n",
    "\n",
    "    ray = LineString([Point(p1), Point(p2)])\n",
    "\n",
    "    if not ray.intersects(poly):\n",
    "        intersection = None\n",
    "    else:\n",
    "        xs, ys = ray.intersection(poly).coords.xy\n",
    "        intersection = Point(list(zip(xs, ys))[1])\n",
    "\n",
    "    return intersection\n",
    "\n",
    "\n",
    "def border_dist(point: Point, heading: float, poly: Polygon) -> float:\n",
    "    \"\"\"\n",
    "    calculate distance from point to edge of polygon on some heading \n",
    "\n",
    "    ** heading should be in radians! convert it with radians(degrees) if needed\n",
    "    \"\"\"\n",
    "\n",
    "    intersection = find_intersection(point, heading, poly)\n",
    "\n",
    "    if intersection is None:\n",
    "        return None\n",
    "    \n",
    "    return point.distance(intersection)"
   ]
  },
  {
   "cell_type": "code",
   "execution_count": 137,
   "metadata": {},
   "outputs": [],
   "source": [
    "\n",
    "# open geojson as UTM zone 10T (lat/ lon in meters)\n",
    "gp_frame = geopandas.read_file(\"./export.json\").to_crs('EPSG:32610')\n",
    "border_poly = gp_frame[gp_frame['name'] == 'Survey Area']['geometry'][0]\n",
    "xx, yy = border_poly.exterior.coords.xy\n",
    "border_vertices = np.array(list(zip(list(xx), list(yy))))\n",
    "\n",
    "# here are some test points, also using UTM zone 10T CRS\n",
    "inside_wp = Point(475968, 4934705)      # lies within polygon\n",
    "outside_wp = Point(475982, 4934713)     # lies outside of the polygon\n",
    "\n",
    "# let's check if these points are inside or outside the polygon\n",
    "assert inside_wp.within(border_poly) is True\n",
    "assert outside_wp.within(border_poly) is False\n",
    "\n",
    "# check distances\n",
    "assert 9 < border_dist(inside_wp, pi, border_poly) < 10\n",
    "assert border_dist(outside_wp, pi, border_poly) is None"
   ]
  }
 ],
 "metadata": {
  "kernelspec": {
   "display_name": "Python 3.11.0 ('geo_env')",
   "language": "python",
   "name": "python3"
  },
  "language_info": {
   "codemirror_mode": {
    "name": "ipython",
    "version": 3
   },
   "file_extension": ".py",
   "mimetype": "text/x-python",
   "name": "python",
   "nbconvert_exporter": "python",
   "pygments_lexer": "ipython3",
   "version": "3.11.0"
  },
  "orig_nbformat": 4,
  "vscode": {
   "interpreter": {
    "hash": "68a35f9e69c1fc182c6263faf6dfedea82c1618d18f45b56e05918fa3050c933"
   }
  }
 },
 "nbformat": 4,
 "nbformat_minor": 2
}
